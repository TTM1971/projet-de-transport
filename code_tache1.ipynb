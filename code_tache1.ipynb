{
 "cells": [
  {
   "cell_type": "code",
   "execution_count": 142,
   "id": "a5a0b989",
   "metadata": {},
   "outputs": [],
   "source": [
    "import pandas as pd\n",
    "import numpy as np\n",
    "import random\n",
    "import glob"
   ]
  },
  {
   "cell_type": "code",
   "execution_count": 143,
   "id": "678a4196",
   "metadata": {},
   "outputs": [],
   "source": [
    "# Charger les fichiers un par un\n",
    "df_routes = pd.read_csv(r'C:\\Users\\Durant.Nguefack\\Desktop\\projet_transport\\archive\\routes.csv', sep=';')\n",
    "df_routes_coords = pd.read_csv(r'C:\\Users\\Durant.Nguefack\\Desktop\\projet_transport\\archive\\routes_with_coordinates.csv', sep=';')\n",
    "df_stops = pd.read_csv(r'C:\\Users\\Durant.Nguefack\\Desktop\\projet_transport\\archive\\stops.csv', sep=';')\n",
    "df_stop_times = pd.read_csv(r'C:\\Users\\Durant.Nguefack\\Desktop\\projet_transport\\archive\\stop_times.csv', sep=';')\n",
    "df_trips = pd.read_csv(r'C:\\Users\\Durant.Nguefack\\Desktop\\projet_transport\\archive\\trips.csv', sep=';')\n"
   ]
  },
  {
   "cell_type": "code",
   "execution_count": 144,
   "id": "593a9529",
   "metadata": {},
   "outputs": [],
   "source": [
    "df_routes = df_routes[['route_id', 'route_long_name']]\n"
   ]
  },
  {
   "cell_type": "code",
   "execution_count": 145,
   "id": "5e7aac75",
   "metadata": {},
   "outputs": [],
   "source": [
    "df_stops = df_stops[['stop_id', 'stop_name', 'stop_lat', 'stop_lon']]\n"
   ]
  },
  {
   "cell_type": "code",
   "execution_count": 146,
   "id": "168de1a7",
   "metadata": {},
   "outputs": [],
   "source": [
    "df_stop_times = df_stop_times[['trip_id', 'arrival_time', 'departure_time', 'stop_id', 'stop_sequence']]\n"
   ]
  },
  {
   "cell_type": "code",
   "execution_count": 147,
   "id": "0bee9d1d",
   "metadata": {},
   "outputs": [],
   "source": [
    "df_trips = df_trips[['trip_id', 'route_id']]\n"
   ]
  },
  {
   "cell_type": "code",
   "execution_count": 148,
   "id": "01378243",
   "metadata": {},
   "outputs": [],
   "source": [
    "# Étape 1 : stop_times + trips (par trip_id)\n",
    "df_copy = pd.merge(df_stop_times, df_trips, on='trip_id', how='left')\n",
    "\n",
    "# Étape 2 : ajouter les infos de route\n",
    "df_copy = pd.merge(df_copy, df_routes, on='route_id', how='left')\n",
    "\n",
    "# Étape 3 : ajouter les infos d’arrêt\n",
    "df_copy = pd.merge(df_copy, df_stops, on='stop_id', how='left')\n"
   ]
  },
  {
   "cell_type": "code",
   "execution_count": 149,
   "id": "1ee352cb",
   "metadata": {},
   "outputs": [
    {
     "name": "stdout",
     "output_type": "stream",
     "text": [
      "Forme finale du DataFrame prêt : (15017, 10)\n",
      "    trip_id arrival_time departure_time  stop_id  stop_sequence route_id  \\\n",
      "0  100E-1-1     08:05:00       08:05:00      637              1     100E   \n",
      "1  100E-1-2     09:35:00       09:35:00      637              1     100E   \n",
      "2  100E-1-3     11:25:00       11:25:00      637              1     100E   \n",
      "3  100E-1-4     12:50:00       12:50:00      637              1     100E   \n",
      "4  100E-1-5     15:45:00       15:45:00      637              1     100E   \n",
      "\n",
      "                route_long_name            stop_name   stop_lat   stop_lon  \n",
      "0  Sadhashivanagar - BTM Layout  BTM Layout Bus Stop  12.916363  77.615991  \n",
      "1  Sadhashivanagar - BTM Layout  BTM Layout Bus Stop  12.916363  77.615991  \n",
      "2  Sadhashivanagar - BTM Layout  BTM Layout Bus Stop  12.916363  77.615991  \n",
      "3  Sadhashivanagar - BTM Layout  BTM Layout Bus Stop  12.916363  77.615991  \n",
      "4  Sadhashivanagar - BTM Layout  BTM Layout Bus Stop  12.916363  77.615991  \n"
     ]
    }
   ],
   "source": [
    "# Supprimer les lignes avec données critiques manquantes\n",
    "df_copy.dropna(subset=['trip_id', 'arrival_time', 'departure_time', 'stop_sequence'], inplace=True)\n",
    "\n",
    "print(\"Forme finale du DataFrame prêt :\", df_copy.shape)\n",
    "print(df_copy.head())\n"
   ]
  },
  {
   "cell_type": "code",
   "execution_count": 151,
   "id": "087afbfa",
   "metadata": {},
   "outputs": [
    {
     "data": {
      "text/plain": [
       "stop_sequence\n",
       "0       15\n",
       "1    14987\n",
       "2       15\n",
       "Name: count, dtype: int64"
      ]
     },
     "execution_count": 151,
     "metadata": {},
     "output_type": "execute_result"
    }
   ],
   "source": [
    "df_copy['stop_sequence'].value_counts().sort_index()\n"
   ]
  },
  {
   "cell_type": "code",
   "execution_count": 152,
   "id": "41c72a55",
   "metadata": {},
   "outputs": [],
   "source": [
    "df_copy['arrival_time'] = pd.to_datetime(df_copy['arrival_time'], format='%H:%M:%S', errors='coerce')\n",
    "df_copy['departure_time'] = pd.to_datetime(df_copy['departure_time'], format='%H:%M:%S', errors='coerce')\n"
   ]
  },
  {
   "cell_type": "code",
   "execution_count": 153,
   "id": "7a882908",
   "metadata": {},
   "outputs": [],
   "source": [
    "df_copy['duree_arret_min'] = (df_copy['departure_time'] - df_copy['arrival_time']).dt.total_seconds() / 60\n"
   ]
  },
  {
   "cell_type": "code",
   "execution_count": 156,
   "id": "bfbf763d",
   "metadata": {},
   "outputs": [],
   "source": [
    "# Durée totale du trajet\n",
    "df_durees = df_copy.groupby('trip_id')['duree_arret_min'].sum().reset_index()\n",
    "df_durees.rename(columns={'duree_arret_min': 'duree_totale_min'}, inplace=True)\n",
    "\n",
    "# Nombre d’arrêts\n",
    "df_arrets = df_copy.groupby('trip_id')['stop_sequence'].count().reset_index()\n",
    "df_arrets.rename(columns={'stop_sequence': 'nombre_arrets'}, inplace=True)\n",
    "\n",
    "# Fusionner les deux\n",
    "df_analyse = pd.merge(df_durees, df_arrets, on='trip_id')\n"
   ]
  },
  {
   "cell_type": "code",
   "execution_count": 157,
   "id": "bad8aef3",
   "metadata": {},
   "outputs": [],
   "source": [
    "df_analyse['panne_probable'] = ((df_analyse['duree_totale_min'] > 60) | \n",
    "                                (df_analyse['nombre_arrets'] > 25)).astype(int)\n"
   ]
  },
  {
   "cell_type": "code",
   "execution_count": 158,
   "id": "a28b9fa7",
   "metadata": {},
   "outputs": [
    {
     "name": "stdout",
     "output_type": "stream",
     "text": [
      "    trip_id  duree_totale_min  nombre_arrets  panne_probable\n",
      "0  100E-1-1               0.0              1               0\n",
      "1  100E-1-2               0.0              1               0\n",
      "2  100E-1-3               0.0              1               0\n",
      "3  100E-1-4               0.0              1               0\n",
      "4  100E-1-5               0.0              1               0\n",
      "panne_probable\n",
      "0    15017\n",
      "Name: count, dtype: int64\n"
     ]
    }
   ],
   "source": [
    "print(df_analyse.head())\n",
    "print(df_analyse['panne_probable'].value_counts())\n"
   ]
  },
  {
   "cell_type": "code",
   "execution_count": 159,
   "id": "73d10247",
   "metadata": {},
   "outputs": [
    {
     "data": {
      "text/plain": [
       "trip_id\n",
       "MP-60A-1-14502    1\n",
       "100E-1-1          1\n",
       "100E-1-2          1\n",
       "100E-1-3          1\n",
       "100E-1-4          1\n",
       "100E-1-5          1\n",
       "100E-1-6          1\n",
       "100E-1-7          1\n",
       "104-1-8           1\n",
       "MP-60A-1-14531    1\n",
       "Name: count, dtype: int64"
      ]
     },
     "execution_count": 159,
     "metadata": {},
     "output_type": "execute_result"
    }
   ],
   "source": [
    "# Repartir du vrai fichier stop_times seul\n",
    "df_stop_times = pd.read_csv(r'C:\\Users\\Durant.Nguefack\\Desktop\\projet_transport\\archive\\stop_times.csv', sep=';')\n",
    "\n",
    "# Vérifier combien de lignes il y a par trip_id\n",
    "df_stop_times['trip_id'].value_counts().head(10)\n"
   ]
  }
 ],
 "metadata": {
  "kernelspec": {
   "display_name": "Python 3",
   "language": "python",
   "name": "python3"
  },
  "language_info": {
   "codemirror_mode": {
    "name": "ipython",
    "version": 3
   },
   "file_extension": ".py",
   "mimetype": "text/x-python",
   "name": "python",
   "nbconvert_exporter": "python",
   "pygments_lexer": "ipython3",
   "version": "3.11.8"
  }
 },
 "nbformat": 4,
 "nbformat_minor": 5
}
